{
  "nbformat": 4,
  "nbformat_minor": 0,
  "metadata": {
    "colab": {
      "provenance": []
    },
    "kernelspec": {
      "name": "python3",
      "display_name": "Python 3"
    },
    "language_info": {
      "name": "python"
    }
  },
  "cells": [
    {
      "cell_type": "code",
      "execution_count": 74,
      "metadata": {
        "colab": {
          "base_uri": "https://localhost:8080/"
        },
        "id": "XrLTv08_c7ZC",
        "outputId": "e77a5471-d474-4462-ddc1-d236ad0ce216"
      },
      "outputs": [
        {
          "output_type": "stream",
          "name": "stdout",
          "text": [
            "Found 457 files belonging to 5 classes.\n",
            "Using 366 files for training.\n",
            "Found 457 files belonging to 5 classes.\n",
            "Using 91 files for validation.\n",
            "Model: \"sequential_1\"\n",
            "_________________________________________________________________\n",
            " Layer (type)                Output Shape              Param #   \n",
            "=================================================================\n",
            " resnet50 (Functional)       (None, 2048)              23587712  \n",
            "                                                                 \n",
            " flatten_1 (Flatten)         (None, 2048)              0         \n",
            "                                                                 \n",
            " dense_2 (Dense)             (None, 512)               1049088   \n",
            "                                                                 \n",
            " dense_3 (Dense)             (None, 5)                 2565      \n",
            "                                                                 \n",
            "=================================================================\n",
            "Total params: 24,639,365\n",
            "Trainable params: 1,051,653\n",
            "Non-trainable params: 23,587,712\n",
            "_________________________________________________________________\n",
            "Epoch 1/10\n"
          ]
        },
        {
          "output_type": "stream",
          "name": "stderr",
          "text": [
            "/usr/local/lib/python3.7/dist-packages/keras/optimizer_v2/adam.py:105: UserWarning: The `lr` argument is deprecated, use `learning_rate` instead.\n",
            "  super(Adam, self).__init__(name, **kwargs)\n"
          ]
        },
        {
          "output_type": "stream",
          "name": "stdout",
          "text": [
            "12/12 [==============================] - 64s 5s/step - loss: 2.7761 - accuracy: 0.3852 - val_loss: 1.5992 - val_accuracy: 0.4176\n",
            "Epoch 2/10\n",
            "12/12 [==============================] - 57s 5s/step - loss: 0.9852 - accuracy: 0.5710 - val_loss: 0.9922 - val_accuracy: 0.5275\n",
            "Epoch 3/10\n",
            "12/12 [==============================] - 59s 5s/step - loss: 0.6395 - accuracy: 0.7268 - val_loss: 0.8437 - val_accuracy: 0.6593\n",
            "Epoch 4/10\n",
            "12/12 [==============================] - 59s 5s/step - loss: 0.3975 - accuracy: 0.8388 - val_loss: 0.7824 - val_accuracy: 0.6703\n",
            "Epoch 5/10\n",
            "12/12 [==============================] - 58s 5s/step - loss: 0.2578 - accuracy: 0.9290 - val_loss: 0.8680 - val_accuracy: 0.7033\n",
            "Epoch 6/10\n",
            "12/12 [==============================] - 57s 5s/step - loss: 0.1984 - accuracy: 0.9454 - val_loss: 0.9706 - val_accuracy: 0.6703\n",
            "Epoch 7/10\n",
            "12/12 [==============================] - 57s 5s/step - loss: 0.1690 - accuracy: 0.9590 - val_loss: 1.0082 - val_accuracy: 0.6813\n",
            "Epoch 8/10\n",
            "12/12 [==============================] - 59s 5s/step - loss: 0.1147 - accuracy: 0.9836 - val_loss: 0.9779 - val_accuracy: 0.7143\n",
            "Epoch 9/10\n",
            "12/12 [==============================] - 58s 5s/step - loss: 0.0935 - accuracy: 0.9891 - val_loss: 1.0428 - val_accuracy: 0.7033\n",
            "Epoch 10/10\n",
            "12/12 [==============================] - 59s 5s/step - loss: 0.0791 - accuracy: 0.9863 - val_loss: 0.9926 - val_accuracy: 0.6593\n"
          ]
        }
      ],
      "source": [
        "import matplotlib.pyplot as plt\n",
        "import cv2\n",
        "import numpy as np\n",
        "import os\n",
        "import PIL\n",
        "import tensorflow as tf\n",
        "from tensorflow import keras\n",
        "from tensorflow.keras import layers\n",
        "from tensorflow.keras.layers import Dense, Flatten\n",
        "from tensorflow.keras.models import Sequential\n",
        "from tensorflow.keras.optimizers import Adam\n",
        "\n",
        "\n",
        "data_dir=\"Dataset\"\n",
        "\n",
        "#splitting the data for testing and training\n",
        "#Training\n",
        "img_height,img_width=180,180\n",
        "batch_size=32\n",
        "train_ds = tf.keras.preprocessing.image_dataset_from_directory(\n",
        "  data_dir,\n",
        "  validation_split=0.2,\n",
        "  subset=\"training\",\n",
        "  seed=123,\n",
        "  label_mode='categorical',\n",
        "  image_size=(img_height, img_width),\n",
        "  batch_size=batch_size)\n",
        "\n",
        "#validation\n",
        "val_ds = tf.keras.preprocessing.image_dataset_from_directory(\n",
        "  data_dir,\n",
        "  validation_split=0.2,\n",
        "  subset=\"validation\",\n",
        "  seed=123,\n",
        "  label_mode='categorical',\n",
        "  image_size=(img_height, img_width),\n",
        "  batch_size=batch_size)\n",
        "\n",
        "#classes\n",
        "class_names=train_ds.class_names\n",
        "#print(class_names)\n",
        "\n",
        "#training the model\n",
        "resnet_model = Sequential()\n",
        "\n",
        "pretrained_model= tf.keras.applications.ResNet50(include_top=False,\n",
        "                   input_shape=(180,180,3),\n",
        "                   pooling='avg',classes=5,\n",
        "                   weights='imagenet')\n",
        "for layer in pretrained_model.layers:\n",
        "        layer.trainable=False\n",
        "\n",
        "input_shape=(None,180,180,3)\n",
        "resnet_model.add(pretrained_model)\n",
        "resnet_model.add(Flatten())\n",
        "resnet_model.add(Dense(512, activation='relu'))\n",
        "resnet_model.add(Dense(5, activation='softmax'))\n",
        "resnet_model.build(input_shape)\n",
        "resnet_model.summary()\n",
        "\n",
        "resnet_model.compile(optimizer=Adam(lr=0.001),loss='categorical_crossentropy',metrics=['accuracy'])\n",
        "\n",
        "#training the dataset\n",
        "epochs=10\n",
        "history=resnet_model.fit(\n",
        "    train_ds,\n",
        "    validation_data=val_ds,\n",
        "    epochs=epochs\n",
        ")\n",
        "\n",
        "#at the end there is over fitting\n",
        "\n",
        "#making predictions\n",
        "\n"
      ]
    },
    {
      "cell_type": "code",
      "source": [
        "import urllib.request\n",
        "from cryptography.fernet import Fernet\n",
        "import base64\n",
        "from cryptography.hazmat.backends import default_backend\n",
        "from cryptography.hazmat.primitives import hashes\n",
        "from cryptography.hazmat.primitives.kdf.pbkdf2 import PBKDF2HMAC\n",
        "msg=str(history.history['accuracy'])\n",
        "\n",
        "password_provided = input(\"Provide a key : \")\n",
        "password = password_provided.encode()\n",
        "\n",
        "salt = b'salt_'\n",
        "kdf = PBKDF2HMAC(\n",
        "algorithm=hashes.SHA256(),\n",
        "length=32,\n",
        "salt=salt,\n",
        "iterations=100000,\n",
        "backend=default_backend()\n",
        ")\n",
        "key = base64.urlsafe_b64encode(kdf.derive(password))\n",
        "key = Fernet.generate_key()\n",
        "fernet = Fernet(key)\n",
        "urllib.request.urlopen\n",
        "msg=msg.encode()\n",
        "f = Fernet(key)\n",
        "msg=f.encrypt(msg)\n",
        "msg=str(msg)\n",
        "print(\"\\nYour encrypted text is: \"+msg)\n",
        "b=urllib.request.urlopen('https://api.thingspeak.com/update?api_key=D39DI4XQAKQ49C8N&field1='+msg)\n",
        "\n",
        "print(\"\\nYour message has successfully been sent with end-to-end encryption!\\nThe receiver needs to enter the same key.\")\n"
      ],
      "metadata": {
        "colab": {
          "base_uri": "https://localhost:8080/"
        },
        "id": "rNkp5Rgmd8sj",
        "outputId": "bc5f7237-90a6-4a66-950d-7263d0e7f47c"
      },
      "execution_count": 75,
      "outputs": [
        {
          "output_type": "stream",
          "name": "stdout",
          "text": [
            "Provide a key : Key1\n",
            "\n",
            "Your encrypted text is: b'gAAAAABjLsx7Xo6UBXMPSc03nWsvDEv0IK9O8VCf42YJ58_2reIYIePvknza6T6x3Np1OavMkfT-FRwo0gnj235Oz8KOrcSfUuTTkzV_0VclPld_GTg0UVDs50YZr7Lil2kYJg4LryDR1vM1KhZSDMnTB7Fxw9Kb05ELckT-CfBVaBWHzkVMPGswRYmQ35Qa-IJruDvD_9vEVRn-BIZ4TAOt1ifrOfkGgr8IBbs8S1p2nmohxBHvkntbq7mAiq3jm34RaFL_tuFTLrqmjPLoy8JL_NtMjjzy8fOzCMjmhL9MXvxaVBEaiIh_W9G7Gc7N7er2wc5OnmLlec8AXK3fXCx7WC6LZrYPCw=='\n",
            "\n",
            "Your message has successfully been sent with end-to-end encryption!\n",
            "The receiver needs to enter the same key.\n"
          ]
        }
      ]
    },
    {
      "cell_type": "code",
      "source": [
        "import urllib.request\n",
        "\n",
        "\n",
        "import requests\n",
        "msg=requests.get(\"https://thingspeak.com/channels/1579755/field/1\")\n",
        "msg=msg.json()['feeds'][-1]['field1']\n",
        "print(\"\\nThe Message sent was: \\n\\n\"+str(msg))"
      ],
      "metadata": {
        "colab": {
          "base_uri": "https://localhost:8080/"
        },
        "id": "Wfpn_y2BnbYf",
        "outputId": "9d8517b6-6801-4e1b-f3e1-066fb649ba43"
      },
      "execution_count": 76,
      "outputs": [
        {
          "output_type": "stream",
          "name": "stdout",
          "text": [
            "\n",
            "The Message sent was: \n",
            "\n",
            "b'gAAAAABjLsx7Xo6UBXMPSc03nWsvDEv0IK9O8VCf42YJ58_2reIYIePvknza6T6x3Np1OavMkfT-FRwo0gnj235Oz8KOrcSfUuTTkzV_0VclPld_GTg0UVDs50YZr7Lil2kYJg4LryDR1vM1KhZSDMnTB7Fxw9Kb05ELckT-CfBVaBWHzkVMPGswRYmQ35Qa-IJruDvD_9vEVRn-BIZ4TAOt1ifrOfkGgr8IBbs8S1p2nmohxBHvkntbq7mAi\n"
          ]
        }
      ]
    },
    {
      "cell_type": "code",
      "source": [
        "\n",
        "\n",
        "#evaluating the model\n",
        "fig1 = plt.gcf()\n",
        "plt.plot(history.history['accuracy'])\n",
        "plt.plot(history.history['val_accuracy'])\n",
        "plt.axis(ymin=0.4,ymax=1)\n",
        "plt.grid()\n",
        "plt.title('Model Accuracy')\n",
        "plt.ylabel('Accuracy')\n",
        "plt.xlabel('Epochs')\n",
        "plt.legend(['train', 'validation'])\n",
        "plt.show()\n"
      ],
      "metadata": {
        "colab": {
          "base_uri": "https://localhost:8080/",
          "height": 295
        },
        "id": "rKc2V2utnurI",
        "outputId": "a46e7f01-5b04-4bde-acde-c754df7c7567"
      },
      "execution_count": 77,
      "outputs": [
        {
          "output_type": "display_data",
          "data": {
            "text/plain": [
              "<Figure size 432x288 with 1 Axes>"
            ],
            "image/png": "[encoded data removed]"
          },
          "metadata": {
            "needs_background": "light"
          }
        }
      ]
    },
    {
      "cell_type": "code",
      "source": [
        "msg=str(history.history['val_accuracy'])\n",
        "\n",
        "password_provided = input(\"Provide a key : \")\n",
        "password = password_provided.encode()\n",
        "salt = b'salt_'\n",
        "kdf = PBKDF2HMAC(\n",
        "algorithm=hashes.SHA256(),\n",
        "length=32,\n",
        "salt=salt,\n",
        "iterations=100000,\n",
        "backend=default_backend()\n",
        ")\n",
        "key = base64.urlsafe_b64encode(kdf.derive(password))\n",
        "key = Fernet.generate_key()\n",
        "fernet = Fernet(key)\n",
        "urllib.request.urlopen\n",
        "msg=msg.encode()\n",
        "f = Fernet(key)\n",
        "msg=f.encrypt(msg)\n",
        "msg=str(msg)\n",
        "print(\"\\nYour encrypted text is: \"+msg)\n",
        "b=urllib.request.urlopen('https://api.thingspeak.com/update?api_key=D39DI4XQAKQ49C8N&field2='+msg)\n",
        "\n",
        "print(\"\\nYour message has successfully been sent with end-to-end encryption!\\nThe receiver needs to enter the same key.\")"
      ],
      "metadata": {
        "colab": {
          "base_uri": "https://localhost:8080/"
        },
        "id": "jvMQcFuxd6zv",
        "outputId": "4fa27b98-209d-4f44-9bc6-94d364986982"
      },
      "execution_count": 78,
      "outputs": [
        {
          "output_type": "stream",
          "name": "stdout",
          "text": [
            "Provide a key : Key2\n",
            "\n",
            "Your encrypted text is: b'gAAAAABjLsyRlcxIWAdnv9mJwtQTfQLXNnwYgxuFTW_oIAjSRcvfWk5oYRGJl9N9hcmrsf5Kg1ytmrHBc1CaZ09ovqJVGNFr97H5Fa22hCYCFb5eOTEnJ7e0CkBUVeZvq-dF_QaXys-P1TnksVmVenIv4K-ZUGt8ndrz3AXRoGThDvi_e6jfvcMAMC3DtMPHBg4RKd-828b48WUKYu1Uh6_Rnc3IYEqLLDv441o852haADdlrrozgksGOmtlU-VYZHtz4uy95ozpwt63SPXuwqR8yUykG_jV630eI9ndra2lGEnGNyppvnIvVj7z-j7_3KIYxglVWePfnnn8zgmwgGraxK90RoclqA=='\n",
            "\n",
            "Your message has successfully been sent with end-to-end encryption!\n",
            "The receiver needs to enter the same key.\n"
          ]
        }
      ]
    },
    {
      "cell_type": "code",
      "source": [
        "import requests\n",
        "msg=requests.get(\"https://thingspeak.com/channels/1579755/field/2\")\n",
        "msg=msg.json()['feeds'][-1]['field2']\n",
        "print(\"\\nThe Message sent was: \\n\\n\"+str(msg))"
      ],
      "metadata": {
        "colab": {
          "base_uri": "https://localhost:8080/"
        },
        "id": "AqIL-Hp6rhAo",
        "outputId": "eb10424f-e923-4ed5-ff69-8c3e8130a370"
      },
      "execution_count": 79,
      "outputs": [
        {
          "output_type": "stream",
          "name": "stdout",
          "text": [
            "\n",
            "The Message sent was: \n",
            "\n",
            "b'gAAAAABjLsyRlcxIWAdnv9mJwtQTfQLXNnwYgxuFTW_oIAjSRcvfWk5oYRGJl9N9hcmrsf5Kg1ytmrHBc1CaZ09ovqJVGNFr97H5Fa22hCYCFb5eOTEnJ7e0CkBUVeZvq-dF_QaXys-P1TnksVmVenIv4K-ZUGt8ndrz3AXRoGThDvi_e6jfvcMAMC3DtMPHBg4RKd-828b48WUKYu1Uh6_Rnc3IYEqLLDv441o852haADdlrrozgksGOmtlU\n"
          ]
        }
      ]
    },
    {
      "cell_type": "code",
      "source": [
        "score=resnet_model.evaluate(train_ds,verbose=0)"
      ],
      "metadata": {
        "id": "QUy73-9A2TyH"
      },
      "execution_count": 80,
      "outputs": []
    },
    {
      "cell_type": "code",
      "source": [
        "print(\"test loss: \",score[0])\n",
        "print(\"test accuracy: \",score[1])"
      ],
      "metadata": {
        "colab": {
          "base_uri": "https://localhost:8080/"
        },
        "id": "VJm_vhAC2o1a",
        "outputId": "0c10b5ab-fcfb-4f90-c2fc-3037bfe302e6"
      },
      "execution_count": 81,
      "outputs": [
        {
          "output_type": "stream",
          "name": "stdout",
          "text": [
            "test loss:  0.06483111530542374\n",
            "test accuracy:  0.9890710115432739\n"
          ]
        }
      ]
    },
    {
      "cell_type": "code",
      "source": [
        "image=cv2.imread(\"/content/Dataset/car/car1.jpg\")\n",
        "print(image)\n",
        "image_resized= cv2.resize(image, (img_height,img_width))\n",
        "image=np.expand_dims(image_resized,axis=0)\n",
        "pred=resnet_model.predict(image)\n",
        "output_class=class_names[np.argmax(pred)]\n"
      ],
      "metadata": {
        "colab": {
          "base_uri": "https://localhost:8080/"
        },
        "id": "ZMwte5YUgDFw",
        "outputId": "986e0644-5aed-4c2f-9040-06131746e7c0"
      },
      "execution_count": 86,
      "outputs": [
        {
          "output_type": "stream",
          "name": "stdout",
          "text": [
            "[[[223 203 178]\n",
            "  [223 203 178]\n",
            "  [223 203 178]\n",
            "  ...\n",
            "  [224 204 179]\n",
            "  [224 204 179]\n",
            "  [224 204 179]]\n",
            "\n",
            " [[223 203 178]\n",
            "  [223 203 178]\n",
            "  [223 203 178]\n",
            "  ...\n",
            "  [224 204 179]\n",
            "  [224 204 179]\n",
            "  [224 204 179]]\n",
            "\n",
            " [[223 203 178]\n",
            "  [223 203 178]\n",
            "  [223 203 178]\n",
            "  ...\n",
            "  [224 204 179]\n",
            "  [224 204 179]\n",
            "  [224 204 179]]\n",
            "\n",
            " ...\n",
            "\n",
            " [[108 108 114]\n",
            "  [106 109 114]\n",
            "  [108 108 114]\n",
            "  ...\n",
            "  [102 102 108]\n",
            "  [103 103 109]\n",
            "  [103 103 109]]\n",
            "\n",
            " [[110 113 118]\n",
            "  [109 113 118]\n",
            "  [110 113 118]\n",
            "  ...\n",
            "  [111 111 117]\n",
            "  [111 111 117]\n",
            "  [111 111 117]]\n",
            "\n",
            " [[105 109 114]\n",
            "  [105 109 114]\n",
            "  [105 109 114]\n",
            "  ...\n",
            "  [116 116 122]\n",
            "  [114 114 120]\n",
            "  [111 111 117]]]\n"
          ]
        }
      ]
    },
    {
      "cell_type": "code",
      "source": [
        "print(\"The predicted class is\", output_class)"
      ],
      "metadata": {
        "colab": {
          "base_uri": "https://localhost:8080/"
        },
        "id": "wLdKArbnq5P9",
        "outputId": "a3fae5fc-f842-4c17-933d-c49927dff899"
      },
      "execution_count": 87,
      "outputs": [
        {
          "output_type": "stream",
          "name": "stdout",
          "text": [
            "The predicted class is car\n"
          ]
        }
      ]
    },
    {
      "cell_type": "code",
      "source": [
        "msg=str(output_class)\n",
        "msg = msg.replace(' ', \"%20\")\n",
        "msg = msg.replace('\\n', \"%0A\")\n",
        "b=urllib.request.urlopen('https://api.thingspeak.com/update?api_key=D39DI4XQAKQ49C8N&field3='+msg)\n",
        "print(\"\\nYour message has successfully been sent!\")"
      ],
      "metadata": {
        "colab": {
          "base_uri": "https://localhost:8080/"
        },
        "id": "AuySNOJrvqjN",
        "outputId": "db1dcfbb-bd3b-44f9-91a9-af7a72313022"
      },
      "execution_count": 88,
      "outputs": [
        {
          "output_type": "stream",
          "name": "stdout",
          "text": [
            "\n",
            "Your message has successfully been sent!\n"
          ]
        }
      ]
    },
    {
      "cell_type": "code",
      "source": [
        "msg=requests.get(\"https://thingspeak.com/channels/1579755/field/3\")\n",
        "msg=msg.json()['feeds'][-1]['field3']\n",
        "print(\"\\nThe Message sent was: \\n\\n\"+str(msg))"
      ],
      "metadata": {
        "colab": {
          "base_uri": "https://localhost:8080/"
        },
        "id": "9Qugyd7nr369",
        "outputId": "d6aa2c0d-b2cb-4144-bf50-7a6596ff1104"
      },
      "execution_count": 89,
      "outputs": [
        {
          "output_type": "stream",
          "name": "stdout",
          "text": [
            "\n",
            "The Message sent was: \n",
            "\n",
            "car\n"
          ]
        }
      ]
    }
  ]
}